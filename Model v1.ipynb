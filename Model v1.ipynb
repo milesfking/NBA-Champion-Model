{
  "nbformat": 4,
  "nbformat_minor": 0,
  "metadata": {
    "colab": {
      "name": "Copy of NBA Decision Tree",
      "provenance": [],
      "machine_shape": "hm",
      "include_colab_link": true
    },
    "kernelspec": {
      "name": "python3",
      "display_name": "Python 3"
    }
  },
  "cells": [
    {
      "cell_type": "markdown",
      "metadata": {
        "id": "view-in-github",
        "colab_type": "text"
      },
      "source": [
        "<a href=\"https://colab.research.google.com/github/milesfking/NBA-Champion-Model/blob/main/Model%20v1.ipynb\" target=\"_parent\"><img src=\"https://colab.research.google.com/assets/colab-badge.svg\" alt=\"Open In Colab\"/></a>"
      ]
    },
    {
      "cell_type": "markdown",
      "metadata": {
        "id": "LWd1UlMnhT2s"
      },
      "source": [
        "## Import libraries"
      ]
    },
    {
      "cell_type": "code",
      "metadata": {
        "id": "YvGPUQaHhXfL"
      },
      "source": [
        "import numpy as np\n",
        "import matplotlib.pyplot as plt\n",
        "import pandas as pd\n",
        "\n",
        "from sklearn.compose import ColumnTransformer\n",
        "from sklearn.preprocessing import StandardScaler, OneHotEncoder\n",
        "from sklearn.model_selection import GridSearchCV, cross_validate\n",
        "from sklearn.linear_model import LogisticRegression, LinearRegression, Ridge\n",
        "from sklearn.tree import DecisionTreeClassifier"
      ],
      "execution_count": 1,
      "outputs": []
    },
    {
      "cell_type": "markdown",
      "source": [
        "## Data Cleaning"
      ],
      "metadata": {
        "id": "1sJfuhxNPzn9"
      }
    },
    {
      "cell_type": "code",
      "source": [
        "# Load in dataset of previous seasons, include only teams who made the playoffs\n",
        "historic_dataset = pd.read_csv(\"https://raw.githubusercontent.com/milesfking/NBA-Champion-Model/main/data/nba_team_advanced_data.csv\")\n",
        "historic_dataset = historic_dataset[historic_dataset[\"Playoffs\"] == \"Y\"]\n",
        "\n",
        "# Load in 2023 dataset, include only teams who made the playoffs\n",
        "current_dataset = pd.read_csv('https://raw.githubusercontent.com/milesfking/NBA-Champion-Model/main/data/2023_advanced_data.csv')\n",
        "current_dataset = current_dataset[current_dataset[\"Playoffs\"] == \"Y\"]\n",
        "\n",
        "# Drop irrelevant columns\n",
        "historic_dataset = historic_dataset.drop(columns=['Playoffs', 'Losing_season', 'Arena', 'L', 'W', 'PW', 'PL', 'Attend.'])\n",
        "current_dataset = current_dataset.drop(columns=['Playoffs', 'Losing_season', 'Arena', 'L', 'W', 'PW', 'PL', 'Attend.'])\n",
        "\n",
        "# Split into predictor and response variables\n",
        "X_historic = historic_dataset.iloc[:, ~ historic_dataset.columns.isin(['Year', 'Champion', 'Team'])]\n",
        "y_historic = historic_dataset.loc[:, historic_dataset.columns == 'Champion'].values\n",
        "y_historic = np.array([0 if val == \"N\" else 1 for val in y_historic])\n",
        "\n",
        "X_current = current_dataset.iloc[:, ~ current_dataset.columns.isin(['Year', 'Champion', 'Team'])]\n",
        "y_current = current_dataset.loc[:, current_dataset.columns == 'Champion'].values\n",
        "y_current = np.array([0 if val == \"N\" else 1 for val in y_current])\n",
        "\n",
        "# Transform data\n",
        "ct = ColumnTransformer(transformers=[('encoder', OneHotEncoder(), ['won_last', 'won_last_3'])], remainder='passthrough')\n",
        "X_historic = np.array(ct.fit_transform(X_historic))\n",
        "X_current = np.array(ct.transform(X_current))\n",
        "\n",
        "# Scale data\n",
        "sc = StandardScaler()\n",
        "X_historic = sc.fit_transform(X_historic)\n",
        "X_current = sc.transform(X_current)"
      ],
      "metadata": {
        "id": "JQ60eChaP2re"
      },
      "execution_count": 13,
      "outputs": []
    },
    {
      "cell_type": "markdown",
      "source": [
        "## Logistic Regression"
      ],
      "metadata": {
        "id": "NdgE--htMZxy"
      }
    },
    {
      "cell_type": "code",
      "source": [
        "# Create logistic regression classifier\n",
        "classifier = LogisticRegression(solver='lbfgs', random_state=0)\n",
        "classifier.fit(X_historic, y_historic)"
      ],
      "metadata": {
        "colab": {
          "base_uri": "https://localhost:8080/",
          "height": 74
        },
        "id": "Cqtvvte5N5MA",
        "outputId": "86ad5ea8-7fdc-4a19-fcd1-a46c454b42cb"
      },
      "execution_count": 14,
      "outputs": [
        {
          "output_type": "execute_result",
          "data": {
            "text/plain": [
              "LogisticRegression(random_state=0)"
            ],
            "text/html": [
              "<style>#sk-container-id-2 {color: black;background-color: white;}#sk-container-id-2 pre{padding: 0;}#sk-container-id-2 div.sk-toggleable {background-color: white;}#sk-container-id-2 label.sk-toggleable__label {cursor: pointer;display: block;width: 100%;margin-bottom: 0;padding: 0.3em;box-sizing: border-box;text-align: center;}#sk-container-id-2 label.sk-toggleable__label-arrow:before {content: \"▸\";float: left;margin-right: 0.25em;color: #696969;}#sk-container-id-2 label.sk-toggleable__label-arrow:hover:before {color: black;}#sk-container-id-2 div.sk-estimator:hover label.sk-toggleable__label-arrow:before {color: black;}#sk-container-id-2 div.sk-toggleable__content {max-height: 0;max-width: 0;overflow: hidden;text-align: left;background-color: #f0f8ff;}#sk-container-id-2 div.sk-toggleable__content pre {margin: 0.2em;color: black;border-radius: 0.25em;background-color: #f0f8ff;}#sk-container-id-2 input.sk-toggleable__control:checked~div.sk-toggleable__content {max-height: 200px;max-width: 100%;overflow: auto;}#sk-container-id-2 input.sk-toggleable__control:checked~label.sk-toggleable__label-arrow:before {content: \"▾\";}#sk-container-id-2 div.sk-estimator input.sk-toggleable__control:checked~label.sk-toggleable__label {background-color: #d4ebff;}#sk-container-id-2 div.sk-label input.sk-toggleable__control:checked~label.sk-toggleable__label {background-color: #d4ebff;}#sk-container-id-2 input.sk-hidden--visually {border: 0;clip: rect(1px 1px 1px 1px);clip: rect(1px, 1px, 1px, 1px);height: 1px;margin: -1px;overflow: hidden;padding: 0;position: absolute;width: 1px;}#sk-container-id-2 div.sk-estimator {font-family: monospace;background-color: #f0f8ff;border: 1px dotted black;border-radius: 0.25em;box-sizing: border-box;margin-bottom: 0.5em;}#sk-container-id-2 div.sk-estimator:hover {background-color: #d4ebff;}#sk-container-id-2 div.sk-parallel-item::after {content: \"\";width: 100%;border-bottom: 1px solid gray;flex-grow: 1;}#sk-container-id-2 div.sk-label:hover label.sk-toggleable__label {background-color: #d4ebff;}#sk-container-id-2 div.sk-serial::before {content: \"\";position: absolute;border-left: 1px solid gray;box-sizing: border-box;top: 0;bottom: 0;left: 50%;z-index: 0;}#sk-container-id-2 div.sk-serial {display: flex;flex-direction: column;align-items: center;background-color: white;padding-right: 0.2em;padding-left: 0.2em;position: relative;}#sk-container-id-2 div.sk-item {position: relative;z-index: 1;}#sk-container-id-2 div.sk-parallel {display: flex;align-items: stretch;justify-content: center;background-color: white;position: relative;}#sk-container-id-2 div.sk-item::before, #sk-container-id-2 div.sk-parallel-item::before {content: \"\";position: absolute;border-left: 1px solid gray;box-sizing: border-box;top: 0;bottom: 0;left: 50%;z-index: -1;}#sk-container-id-2 div.sk-parallel-item {display: flex;flex-direction: column;z-index: 1;position: relative;background-color: white;}#sk-container-id-2 div.sk-parallel-item:first-child::after {align-self: flex-end;width: 50%;}#sk-container-id-2 div.sk-parallel-item:last-child::after {align-self: flex-start;width: 50%;}#sk-container-id-2 div.sk-parallel-item:only-child::after {width: 0;}#sk-container-id-2 div.sk-dashed-wrapped {border: 1px dashed gray;margin: 0 0.4em 0.5em 0.4em;box-sizing: border-box;padding-bottom: 0.4em;background-color: white;}#sk-container-id-2 div.sk-label label {font-family: monospace;font-weight: bold;display: inline-block;line-height: 1.2em;}#sk-container-id-2 div.sk-label-container {text-align: center;}#sk-container-id-2 div.sk-container {/* jupyter's `normalize.less` sets `[hidden] { display: none; }` but bootstrap.min.css set `[hidden] { display: none !important; }` so we also need the `!important` here to be able to override the default hidden behavior on the sphinx rendered scikit-learn.org. See: https://github.com/scikit-learn/scikit-learn/issues/21755 */display: inline-block !important;position: relative;}#sk-container-id-2 div.sk-text-repr-fallback {display: none;}</style><div id=\"sk-container-id-2\" class=\"sk-top-container\"><div class=\"sk-text-repr-fallback\"><pre>LogisticRegression(random_state=0)</pre><b>In a Jupyter environment, please rerun this cell to show the HTML representation or trust the notebook. <br />On GitHub, the HTML representation is unable to render, please try loading this page with nbviewer.org.</b></div><div class=\"sk-container\" hidden><div class=\"sk-item\"><div class=\"sk-estimator sk-toggleable\"><input class=\"sk-toggleable__control sk-hidden--visually\" id=\"sk-estimator-id-2\" type=\"checkbox\" checked><label for=\"sk-estimator-id-2\" class=\"sk-toggleable__label sk-toggleable__label-arrow\">LogisticRegression</label><div class=\"sk-toggleable__content\"><pre>LogisticRegression(random_state=0)</pre></div></div></div></div></div>"
            ]
          },
          "metadata": {},
          "execution_count": 14
        }
      ]
    },
    {
      "cell_type": "markdown",
      "source": [
        "### Predict on Current Season"
      ],
      "metadata": {
        "id": "jlZvwnrjgxRk"
      }
    },
    {
      "cell_type": "code",
      "source": [
        "# Predict probabilities for test data\n",
        "y_current_proba = classifier.predict_proba(X_current)\n",
        "\n",
        "# Scale probabilities so they sum to 1\n",
        "normalizing_const = sum([elem[1] for elem in y_current_proba])\n",
        "y_current_proba_norm = y_current_proba / normalizing_const\n",
        "\n",
        "# Store predicted probabilities in DataFrame with team and year\n",
        "team_names = current_dataset['Team'].values\n",
        "year = current_dataset['Year'].values\n",
        "current_predictions = pd.DataFrame(data=y_current_proba_norm[:, 1], columns=['norm_pred'])\n",
        "current_predictions.insert(loc=0, column='Team', value=team_names)\n",
        "current_predictions.insert(loc=1, column='Year', value=year)\n",
        "\n",
        "# Output DataFrame with team, year, and predicted probabilities\n",
        "print(\"Model output:\")\n",
        "print(current_predictions.sort_values(by=['norm_pred'], ascending=False))\n",
        "\n",
        "# Get the feature names after one-hot encoding\n",
        "feature_names = ct.get_feature_names_out()\n",
        "\n",
        "# Create a DataFrame to store coefficients and feature names\n",
        "coefficients_df = pd.DataFrame({'Feature': feature_names, 'Coefficient': classifier.coef_.flatten() / normalizing_const})\n",
        "\n",
        "# Print the coefficients\n",
        "print()\n",
        "print(\"Model coefficients:\")\n",
        "print(coefficients_df)"
      ],
      "metadata": {
        "id": "hrKdfRgug0Um",
        "outputId": "750e3e64-f4b2-4161-c045-ca0dbec4e60b",
        "colab": {
          "base_uri": "https://localhost:8080/"
        }
      },
      "execution_count": 17,
      "outputs": [
        {
          "output_type": "stream",
          "name": "stdout",
          "text": [
            "Model output:\n",
            "                      Team    Year  norm_pred\n",
            "11         Milwaukee Bucks  2023.0   0.410194\n",
            "1           Boston Celtics  2023.0   0.181999\n",
            "6    Golden State Warriors  2023.0   0.121528\n",
            "5           Denver Nuggets  2023.0   0.076651\n",
            "4      Cleveland Cavaliers  2023.0   0.044012\n",
            "9        Memphis Grizzlies  2023.0   0.040511\n",
            "16      Philadelphia 76ers  2023.0   0.027361\n",
            "17            Phoenix Suns  2023.0   0.021619\n",
            "7     Los Angeles Clippers  2023.0   0.014242\n",
            "2            Brooklyn Nets  2023.0   0.010615\n",
            "14         New York Knicks  2023.0   0.007825\n",
            "3            Chicago Bulls  2023.0   0.007798\n",
            "18        Sacramento Kings  2023.0   0.007623\n",
            "8       Los Angeles Lakers  2023.0   0.006692\n",
            "13    New Orleans Pelicans  2023.0   0.006010\n",
            "12  Minnesota Timberwolves  2023.0   0.005202\n",
            "10              Miami Heat  2023.0   0.003365\n",
            "19         Toronto Raptors  2023.0   0.003310\n",
            "0            Atlanta Hawks  2023.0   0.002354\n",
            "15   Oklahoma City Thunder  2023.0   0.001087\n",
            "\n",
            "Model coefficients:\n",
            "                  Feature  Coefficient\n",
            "0     encoder__won_last_N    -0.511985\n",
            "1     encoder__won_last_Y     0.511985\n",
            "2   encoder__won_last_3_N     0.039897\n",
            "3   encoder__won_last_3_Y    -0.039897\n",
            "4          remainder__Age     1.615172\n",
            "5          remainder__MOV     0.212233\n",
            "6          remainder__SOS     0.080717\n",
            "7          remainder__SRS     0.206425\n",
            "8         remainder__ORtg     0.322394\n",
            "9         remainder__DRtg    -0.526258\n",
            "10        remainder__NRtg     1.034136\n",
            "11        remainder__Pace     0.613735\n",
            "12         remainder__FTr     1.334696\n",
            "13        remainder__3PAr    -0.243275\n",
            "14         remainder__TS%     0.044462\n",
            "15       remainder__OeFG%     1.754372\n",
            "16       remainder__OTOV%     0.197778\n",
            "17        remainder__ORB%     1.449296\n",
            "18     remainder__OFT/FGA    -2.803757\n",
            "19       remainder__DeFG%    -1.576346\n",
            "20       remainder__DTOV%     0.854128\n",
            "21        remainder__DRB%     0.620396\n",
            "22     remainder__DFT/FGA    -0.976314\n",
            "23        remainder__W/L%     2.016343\n"
          ]
        }
      ]
    },
    {
      "cell_type": "markdown",
      "source": [
        "### Predict on Past Seasons"
      ],
      "metadata": {
        "id": "1QhHrv1Jg4K_"
      }
    },
    {
      "cell_type": "code",
      "source": [
        "# Predict probabilities for test data\n",
        "y_past_proba = classifier.predict_proba(X_historic)\n",
        "\n",
        "# Store predicted probabilities in DataFrame with team and year\n",
        "team_names = historic_dataset['Team'].values\n",
        "year = historic_dataset['Year'].values\n",
        "historic_predictions = pd.DataFrame(data=y_past_proba[:, 1], columns=['pred'])\n",
        "historic_predictions.insert(loc=0, column='Team', value=team_names)\n",
        "historic_predictions.insert(loc=1, column='Year', value=year)\n",
        "\n",
        "# Output DataFrame with team, year, and predicted probabilities\n",
        "print(\"Model output:\")\n",
        "print(historic_predictions)\n",
        "\n",
        "historic_predictions.head()"
      ],
      "metadata": {
        "id": "dhPsY6WLg6C6",
        "outputId": "3d5e8987-4a20-4442-c6a0-69bef0b640eb",
        "colab": {
          "base_uri": "https://localhost:8080/",
          "height": 466
        }
      },
      "execution_count": 20,
      "outputs": [
        {
          "output_type": "stream",
          "name": "stdout",
          "text": [
            "Model output:\n",
            "                     Team    Year      pred\n",
            "0          Boston Celtics  1990.0  0.027894\n",
            "1           Chicago Bulls  1990.0  0.011422\n",
            "2     Cleveland Cavaliers  1990.0  0.001883\n",
            "3        Dallas Mavericks  1990.0  0.004468\n",
            "4          Denver Nuggets  1990.0  0.006137\n",
            "..                    ...     ...       ...\n",
            "523  New Orleans Pelicans  2022.0  0.000475\n",
            "524    Philadelphia 76ers  2022.0  0.002753\n",
            "525          Phoenix Suns  2022.0  0.233746\n",
            "526       Toronto Raptors  2022.0  0.004773\n",
            "527             Utah Jazz  2022.0  0.062737\n",
            "\n",
            "[528 rows x 3 columns]\n"
          ]
        },
        {
          "output_type": "execute_result",
          "data": {
            "text/plain": [
              "                  Team    Year      pred\n",
              "0       Boston Celtics  1990.0  0.027894\n",
              "1        Chicago Bulls  1990.0  0.011422\n",
              "2  Cleveland Cavaliers  1990.0  0.001883\n",
              "3     Dallas Mavericks  1990.0  0.004468\n",
              "4       Denver Nuggets  1990.0  0.006137"
            ],
            "text/html": [
              "\n",
              "  <div id=\"df-86ee8e85-a8de-47d0-bbb9-7c98b3e23cec\">\n",
              "    <div class=\"colab-df-container\">\n",
              "      <div>\n",
              "<style scoped>\n",
              "    .dataframe tbody tr th:only-of-type {\n",
              "        vertical-align: middle;\n",
              "    }\n",
              "\n",
              "    .dataframe tbody tr th {\n",
              "        vertical-align: top;\n",
              "    }\n",
              "\n",
              "    .dataframe thead th {\n",
              "        text-align: right;\n",
              "    }\n",
              "</style>\n",
              "<table border=\"1\" class=\"dataframe\">\n",
              "  <thead>\n",
              "    <tr style=\"text-align: right;\">\n",
              "      <th></th>\n",
              "      <th>Team</th>\n",
              "      <th>Year</th>\n",
              "      <th>pred</th>\n",
              "    </tr>\n",
              "  </thead>\n",
              "  <tbody>\n",
              "    <tr>\n",
              "      <th>0</th>\n",
              "      <td>Boston Celtics</td>\n",
              "      <td>1990.0</td>\n",
              "      <td>0.027894</td>\n",
              "    </tr>\n",
              "    <tr>\n",
              "      <th>1</th>\n",
              "      <td>Chicago Bulls</td>\n",
              "      <td>1990.0</td>\n",
              "      <td>0.011422</td>\n",
              "    </tr>\n",
              "    <tr>\n",
              "      <th>2</th>\n",
              "      <td>Cleveland Cavaliers</td>\n",
              "      <td>1990.0</td>\n",
              "      <td>0.001883</td>\n",
              "    </tr>\n",
              "    <tr>\n",
              "      <th>3</th>\n",
              "      <td>Dallas Mavericks</td>\n",
              "      <td>1990.0</td>\n",
              "      <td>0.004468</td>\n",
              "    </tr>\n",
              "    <tr>\n",
              "      <th>4</th>\n",
              "      <td>Denver Nuggets</td>\n",
              "      <td>1990.0</td>\n",
              "      <td>0.006137</td>\n",
              "    </tr>\n",
              "  </tbody>\n",
              "</table>\n",
              "</div>\n",
              "      <button class=\"colab-df-convert\" onclick=\"convertToInteractive('df-86ee8e85-a8de-47d0-bbb9-7c98b3e23cec')\"\n",
              "              title=\"Convert this dataframe to an interactive table.\"\n",
              "              style=\"display:none;\">\n",
              "        \n",
              "  <svg xmlns=\"http://www.w3.org/2000/svg\" height=\"24px\"viewBox=\"0 0 24 24\"\n",
              "       width=\"24px\">\n",
              "    <path d=\"M0 0h24v24H0V0z\" fill=\"none\"/>\n",
              "    <path d=\"M18.56 5.44l.94 2.06.94-2.06 2.06-.94-2.06-.94-.94-2.06-.94 2.06-2.06.94zm-11 1L8.5 8.5l.94-2.06 2.06-.94-2.06-.94L8.5 2.5l-.94 2.06-2.06.94zm10 10l.94 2.06.94-2.06 2.06-.94-2.06-.94-.94-2.06-.94 2.06-2.06.94z\"/><path d=\"M17.41 7.96l-1.37-1.37c-.4-.4-.92-.59-1.43-.59-.52 0-1.04.2-1.43.59L10.3 9.45l-7.72 7.72c-.78.78-.78 2.05 0 2.83L4 21.41c.39.39.9.59 1.41.59.51 0 1.02-.2 1.41-.59l7.78-7.78 2.81-2.81c.8-.78.8-2.07 0-2.86zM5.41 20L4 18.59l7.72-7.72 1.47 1.35L5.41 20z\"/>\n",
              "  </svg>\n",
              "      </button>\n",
              "      \n",
              "  <style>\n",
              "    .colab-df-container {\n",
              "      display:flex;\n",
              "      flex-wrap:wrap;\n",
              "      gap: 12px;\n",
              "    }\n",
              "\n",
              "    .colab-df-convert {\n",
              "      background-color: #E8F0FE;\n",
              "      border: none;\n",
              "      border-radius: 50%;\n",
              "      cursor: pointer;\n",
              "      display: none;\n",
              "      fill: #1967D2;\n",
              "      height: 32px;\n",
              "      padding: 0 0 0 0;\n",
              "      width: 32px;\n",
              "    }\n",
              "\n",
              "    .colab-df-convert:hover {\n",
              "      background-color: #E2EBFA;\n",
              "      box-shadow: 0px 1px 2px rgba(60, 64, 67, 0.3), 0px 1px 3px 1px rgba(60, 64, 67, 0.15);\n",
              "      fill: #174EA6;\n",
              "    }\n",
              "\n",
              "    [theme=dark] .colab-df-convert {\n",
              "      background-color: #3B4455;\n",
              "      fill: #D2E3FC;\n",
              "    }\n",
              "\n",
              "    [theme=dark] .colab-df-convert:hover {\n",
              "      background-color: #434B5C;\n",
              "      box-shadow: 0px 1px 3px 1px rgba(0, 0, 0, 0.15);\n",
              "      filter: drop-shadow(0px 1px 2px rgba(0, 0, 0, 0.3));\n",
              "      fill: #FFFFFF;\n",
              "    }\n",
              "  </style>\n",
              "\n",
              "      <script>\n",
              "        const buttonEl =\n",
              "          document.querySelector('#df-86ee8e85-a8de-47d0-bbb9-7c98b3e23cec button.colab-df-convert');\n",
              "        buttonEl.style.display =\n",
              "          google.colab.kernel.accessAllowed ? 'block' : 'none';\n",
              "\n",
              "        async function convertToInteractive(key) {\n",
              "          const element = document.querySelector('#df-86ee8e85-a8de-47d0-bbb9-7c98b3e23cec');\n",
              "          const dataTable =\n",
              "            await google.colab.kernel.invokeFunction('convertToInteractive',\n",
              "                                                     [key], {});\n",
              "          if (!dataTable) return;\n",
              "\n",
              "          const docLinkHtml = 'Like what you see? Visit the ' +\n",
              "            '<a target=\"_blank\" href=https://colab.research.google.com/notebooks/data_table.ipynb>data table notebook</a>'\n",
              "            + ' to learn more about interactive tables.';\n",
              "          element.innerHTML = '';\n",
              "          dataTable['output_type'] = 'display_data';\n",
              "          await google.colab.output.renderOutput(dataTable, element);\n",
              "          const docLink = document.createElement('div');\n",
              "          docLink.innerHTML = docLinkHtml;\n",
              "          element.appendChild(docLink);\n",
              "        }\n",
              "      </script>\n",
              "    </div>\n",
              "  </div>\n",
              "  "
            ]
          },
          "metadata": {},
          "execution_count": 20
        }
      ]
    },
    {
      "cell_type": "markdown",
      "source": [
        "### Combine and Tidy the Data"
      ],
      "metadata": {
        "id": "rlfkov8QfZgu"
      }
    },
    {
      "cell_type": "code",
      "source": [
        "# Get datasets for current and past seasons with predictions\n",
        "current_merged_df = pd.merge(current_predictions, current_dataset, on=['Team', 'Year'])\n",
        "historic_merged_df = pd.merge(historic_predictions, historic_dataset, on=['Team', 'Year'])\n",
        "\n",
        "# Merge all years\n",
        "full_df = pd.concat([historic_merged_df, current_merged_df]).sort_values(by=['Year', 'Team'], ascending=True)"
      ],
      "metadata": {
        "id": "1d8zrhITXPG7"
      },
      "execution_count": 21,
      "outputs": []
    },
    {
      "cell_type": "markdown",
      "source": [
        "Create a column for normalized predictions"
      ],
      "metadata": {
        "id": "MuCfNcsq4paI"
      }
    },
    {
      "cell_type": "code",
      "source": [
        "# Group the data by year\n",
        "grouped = full_df.groupby('Year')\n",
        "\n",
        "# Normalize the championship probabilities within each year\n",
        "full_df['norm_pred'] = grouped['pred'].apply(lambda x: x / x.sum())\n",
        "\n",
        "# Print the updated DataFrame\n",
        "full_df.head()"
      ],
      "metadata": {
        "id": "RSIIm7GsffcL",
        "outputId": "efc03b98-d0f0-48c6-8067-04633c1e0671",
        "colab": {
          "base_uri": "https://localhost:8080/",
          "height": 542
        }
      },
      "execution_count": 22,
      "outputs": [
        {
          "output_type": "stream",
          "name": "stderr",
          "text": [
            "<ipython-input-22-dbca568335fe>:5: FutureWarning: Not prepending group keys to the result index of transform-like apply. In the future, the group keys will be included in the index, regardless of whether the applied function returns a like-indexed object.\n",
            "To preserve the previous behavior, use\n",
            "\n",
            "\t>>> .groupby(..., group_keys=False)\n",
            "\n",
            "To adopt the future behavior and silence this warning, use \n",
            "\n",
            "\t>>> .groupby(..., group_keys=True)\n",
            "  full_df['norm_pred'] = grouped['pred'].apply(lambda x: x / x.sum())\n"
          ]
        },
        {
          "output_type": "execute_result",
          "data": {
            "text/plain": [
              "                  Team    Year      pred   Age   MOV   SOS   SRS   ORtg  \\\n",
              "0       Boston Celtics  1990.0  0.027894  30.2  3.99 -0.76  3.23  112.0   \n",
              "1        Chicago Bulls  1990.0  0.011422  26.1  3.26 -0.51  2.74  112.3   \n",
              "2  Cleveland Cavaliers  1990.0  0.001883  26.1 -0.30 -0.31 -0.62  106.9   \n",
              "3     Dallas Mavericks  1990.0  0.004468  29.2  0.07  0.35  0.42  107.2   \n",
              "4       Denver Nuggets  1990.0  0.006137  29.5  1.41  0.15  1.56  108.0   \n",
              "\n",
              "    DRtg  NRtg  ...  OFT/FGA  DeFG%  DTOV%  DRB%  DFT/FGA      W/L%  Champion  \\\n",
              "0  107.9   4.1  ...    0.251  0.477   10.8  72.1    0.223  0.634146         N   \n",
              "1  109.0   3.3  ...    0.235  0.508   15.2  68.1    0.262  0.670732         N   \n",
              "2  107.2  -0.3  ...    0.235  0.490   14.0  67.7    0.202  0.512195         N   \n",
              "3  107.2   0.0  ...    0.254  0.481   13.4  67.9    0.232  0.573171         N   \n",
              "4  106.7   1.3  ...    0.217  0.501   15.2  71.3    0.264  0.524390         N   \n",
              "\n",
              "   won_last  won_last_3  norm_pred  \n",
              "0         N           N   0.043689  \n",
              "1         N           N   0.017889  \n",
              "2         N           N   0.002949  \n",
              "3         N           N   0.006998  \n",
              "4         N           N   0.009612  \n",
              "\n",
              "[5 rows x 27 columns]"
            ],
            "text/html": [
              "\n",
              "  <div id=\"df-f396f2f7-b48c-4adb-bbec-07fc1e9c3b16\">\n",
              "    <div class=\"colab-df-container\">\n",
              "      <div>\n",
              "<style scoped>\n",
              "    .dataframe tbody tr th:only-of-type {\n",
              "        vertical-align: middle;\n",
              "    }\n",
              "\n",
              "    .dataframe tbody tr th {\n",
              "        vertical-align: top;\n",
              "    }\n",
              "\n",
              "    .dataframe thead th {\n",
              "        text-align: right;\n",
              "    }\n",
              "</style>\n",
              "<table border=\"1\" class=\"dataframe\">\n",
              "  <thead>\n",
              "    <tr style=\"text-align: right;\">\n",
              "      <th></th>\n",
              "      <th>Team</th>\n",
              "      <th>Year</th>\n",
              "      <th>pred</th>\n",
              "      <th>Age</th>\n",
              "      <th>MOV</th>\n",
              "      <th>SOS</th>\n",
              "      <th>SRS</th>\n",
              "      <th>ORtg</th>\n",
              "      <th>DRtg</th>\n",
              "      <th>NRtg</th>\n",
              "      <th>...</th>\n",
              "      <th>OFT/FGA</th>\n",
              "      <th>DeFG%</th>\n",
              "      <th>DTOV%</th>\n",
              "      <th>DRB%</th>\n",
              "      <th>DFT/FGA</th>\n",
              "      <th>W/L%</th>\n",
              "      <th>Champion</th>\n",
              "      <th>won_last</th>\n",
              "      <th>won_last_3</th>\n",
              "      <th>norm_pred</th>\n",
              "    </tr>\n",
              "  </thead>\n",
              "  <tbody>\n",
              "    <tr>\n",
              "      <th>0</th>\n",
              "      <td>Boston Celtics</td>\n",
              "      <td>1990.0</td>\n",
              "      <td>0.027894</td>\n",
              "      <td>30.2</td>\n",
              "      <td>3.99</td>\n",
              "      <td>-0.76</td>\n",
              "      <td>3.23</td>\n",
              "      <td>112.0</td>\n",
              "      <td>107.9</td>\n",
              "      <td>4.1</td>\n",
              "      <td>...</td>\n",
              "      <td>0.251</td>\n",
              "      <td>0.477</td>\n",
              "      <td>10.8</td>\n",
              "      <td>72.1</td>\n",
              "      <td>0.223</td>\n",
              "      <td>0.634146</td>\n",
              "      <td>N</td>\n",
              "      <td>N</td>\n",
              "      <td>N</td>\n",
              "      <td>0.043689</td>\n",
              "    </tr>\n",
              "    <tr>\n",
              "      <th>1</th>\n",
              "      <td>Chicago Bulls</td>\n",
              "      <td>1990.0</td>\n",
              "      <td>0.011422</td>\n",
              "      <td>26.1</td>\n",
              "      <td>3.26</td>\n",
              "      <td>-0.51</td>\n",
              "      <td>2.74</td>\n",
              "      <td>112.3</td>\n",
              "      <td>109.0</td>\n",
              "      <td>3.3</td>\n",
              "      <td>...</td>\n",
              "      <td>0.235</td>\n",
              "      <td>0.508</td>\n",
              "      <td>15.2</td>\n",
              "      <td>68.1</td>\n",
              "      <td>0.262</td>\n",
              "      <td>0.670732</td>\n",
              "      <td>N</td>\n",
              "      <td>N</td>\n",
              "      <td>N</td>\n",
              "      <td>0.017889</td>\n",
              "    </tr>\n",
              "    <tr>\n",
              "      <th>2</th>\n",
              "      <td>Cleveland Cavaliers</td>\n",
              "      <td>1990.0</td>\n",
              "      <td>0.001883</td>\n",
              "      <td>26.1</td>\n",
              "      <td>-0.30</td>\n",
              "      <td>-0.31</td>\n",
              "      <td>-0.62</td>\n",
              "      <td>106.9</td>\n",
              "      <td>107.2</td>\n",
              "      <td>-0.3</td>\n",
              "      <td>...</td>\n",
              "      <td>0.235</td>\n",
              "      <td>0.490</td>\n",
              "      <td>14.0</td>\n",
              "      <td>67.7</td>\n",
              "      <td>0.202</td>\n",
              "      <td>0.512195</td>\n",
              "      <td>N</td>\n",
              "      <td>N</td>\n",
              "      <td>N</td>\n",
              "      <td>0.002949</td>\n",
              "    </tr>\n",
              "    <tr>\n",
              "      <th>3</th>\n",
              "      <td>Dallas Mavericks</td>\n",
              "      <td>1990.0</td>\n",
              "      <td>0.004468</td>\n",
              "      <td>29.2</td>\n",
              "      <td>0.07</td>\n",
              "      <td>0.35</td>\n",
              "      <td>0.42</td>\n",
              "      <td>107.2</td>\n",
              "      <td>107.2</td>\n",
              "      <td>0.0</td>\n",
              "      <td>...</td>\n",
              "      <td>0.254</td>\n",
              "      <td>0.481</td>\n",
              "      <td>13.4</td>\n",
              "      <td>67.9</td>\n",
              "      <td>0.232</td>\n",
              "      <td>0.573171</td>\n",
              "      <td>N</td>\n",
              "      <td>N</td>\n",
              "      <td>N</td>\n",
              "      <td>0.006998</td>\n",
              "    </tr>\n",
              "    <tr>\n",
              "      <th>4</th>\n",
              "      <td>Denver Nuggets</td>\n",
              "      <td>1990.0</td>\n",
              "      <td>0.006137</td>\n",
              "      <td>29.5</td>\n",
              "      <td>1.41</td>\n",
              "      <td>0.15</td>\n",
              "      <td>1.56</td>\n",
              "      <td>108.0</td>\n",
              "      <td>106.7</td>\n",
              "      <td>1.3</td>\n",
              "      <td>...</td>\n",
              "      <td>0.217</td>\n",
              "      <td>0.501</td>\n",
              "      <td>15.2</td>\n",
              "      <td>71.3</td>\n",
              "      <td>0.264</td>\n",
              "      <td>0.524390</td>\n",
              "      <td>N</td>\n",
              "      <td>N</td>\n",
              "      <td>N</td>\n",
              "      <td>0.009612</td>\n",
              "    </tr>\n",
              "  </tbody>\n",
              "</table>\n",
              "<p>5 rows × 27 columns</p>\n",
              "</div>\n",
              "      <button class=\"colab-df-convert\" onclick=\"convertToInteractive('df-f396f2f7-b48c-4adb-bbec-07fc1e9c3b16')\"\n",
              "              title=\"Convert this dataframe to an interactive table.\"\n",
              "              style=\"display:none;\">\n",
              "        \n",
              "  <svg xmlns=\"http://www.w3.org/2000/svg\" height=\"24px\"viewBox=\"0 0 24 24\"\n",
              "       width=\"24px\">\n",
              "    <path d=\"M0 0h24v24H0V0z\" fill=\"none\"/>\n",
              "    <path d=\"M18.56 5.44l.94 2.06.94-2.06 2.06-.94-2.06-.94-.94-2.06-.94 2.06-2.06.94zm-11 1L8.5 8.5l.94-2.06 2.06-.94-2.06-.94L8.5 2.5l-.94 2.06-2.06.94zm10 10l.94 2.06.94-2.06 2.06-.94-2.06-.94-.94-2.06-.94 2.06-2.06.94z\"/><path d=\"M17.41 7.96l-1.37-1.37c-.4-.4-.92-.59-1.43-.59-.52 0-1.04.2-1.43.59L10.3 9.45l-7.72 7.72c-.78.78-.78 2.05 0 2.83L4 21.41c.39.39.9.59 1.41.59.51 0 1.02-.2 1.41-.59l7.78-7.78 2.81-2.81c.8-.78.8-2.07 0-2.86zM5.41 20L4 18.59l7.72-7.72 1.47 1.35L5.41 20z\"/>\n",
              "  </svg>\n",
              "      </button>\n",
              "      \n",
              "  <style>\n",
              "    .colab-df-container {\n",
              "      display:flex;\n",
              "      flex-wrap:wrap;\n",
              "      gap: 12px;\n",
              "    }\n",
              "\n",
              "    .colab-df-convert {\n",
              "      background-color: #E8F0FE;\n",
              "      border: none;\n",
              "      border-radius: 50%;\n",
              "      cursor: pointer;\n",
              "      display: none;\n",
              "      fill: #1967D2;\n",
              "      height: 32px;\n",
              "      padding: 0 0 0 0;\n",
              "      width: 32px;\n",
              "    }\n",
              "\n",
              "    .colab-df-convert:hover {\n",
              "      background-color: #E2EBFA;\n",
              "      box-shadow: 0px 1px 2px rgba(60, 64, 67, 0.3), 0px 1px 3px 1px rgba(60, 64, 67, 0.15);\n",
              "      fill: #174EA6;\n",
              "    }\n",
              "\n",
              "    [theme=dark] .colab-df-convert {\n",
              "      background-color: #3B4455;\n",
              "      fill: #D2E3FC;\n",
              "    }\n",
              "\n",
              "    [theme=dark] .colab-df-convert:hover {\n",
              "      background-color: #434B5C;\n",
              "      box-shadow: 0px 1px 3px 1px rgba(0, 0, 0, 0.15);\n",
              "      filter: drop-shadow(0px 1px 2px rgba(0, 0, 0, 0.3));\n",
              "      fill: #FFFFFF;\n",
              "    }\n",
              "  </style>\n",
              "\n",
              "      <script>\n",
              "        const buttonEl =\n",
              "          document.querySelector('#df-f396f2f7-b48c-4adb-bbec-07fc1e9c3b16 button.colab-df-convert');\n",
              "        buttonEl.style.display =\n",
              "          google.colab.kernel.accessAllowed ? 'block' : 'none';\n",
              "\n",
              "        async function convertToInteractive(key) {\n",
              "          const element = document.querySelector('#df-f396f2f7-b48c-4adb-bbec-07fc1e9c3b16');\n",
              "          const dataTable =\n",
              "            await google.colab.kernel.invokeFunction('convertToInteractive',\n",
              "                                                     [key], {});\n",
              "          if (!dataTable) return;\n",
              "\n",
              "          const docLinkHtml = 'Like what you see? Visit the ' +\n",
              "            '<a target=\"_blank\" href=https://colab.research.google.com/notebooks/data_table.ipynb>data table notebook</a>'\n",
              "            + ' to learn more about interactive tables.';\n",
              "          element.innerHTML = '';\n",
              "          dataTable['output_type'] = 'display_data';\n",
              "          await google.colab.output.renderOutput(dataTable, element);\n",
              "          const docLink = document.createElement('div');\n",
              "          docLink.innerHTML = docLinkHtml;\n",
              "          element.appendChild(docLink);\n",
              "        }\n",
              "      </script>\n",
              "    </div>\n",
              "  </div>\n",
              "  "
            ]
          },
          "metadata": {},
          "execution_count": 22
        }
      ]
    },
    {
      "cell_type": "markdown",
      "source": [
        "### Export the Model and Data"
      ],
      "metadata": {
        "id": "gWUKs-Ut5w2H"
      }
    },
    {
      "cell_type": "code",
      "source": [
        "# Save the dataframe as a CSV\n",
        "full_df.to_csv('20230627_NBA_championship_probs.csv')"
      ],
      "metadata": {
        "id": "M9mBbXPs5y4p"
      },
      "execution_count": 9,
      "outputs": []
    },
    {
      "cell_type": "code",
      "source": [
        "import joblib"
      ],
      "metadata": {
        "id": "cfrFjlFYTzW6"
      },
      "execution_count": 24,
      "outputs": []
    },
    {
      "cell_type": "code",
      "source": [
        "# Save the classifier object using joblib\n",
        "joblib.dump(classifier, 'model.pkl')"
      ],
      "metadata": {
        "id": "Xm4kse0A73Sm",
        "outputId": "78e495ba-1b5f-496a-ce02-16893c61320f",
        "colab": {
          "base_uri": "https://localhost:8080/"
        }
      },
      "execution_count": 27,
      "outputs": [
        {
          "output_type": "execute_result",
          "data": {
            "text/plain": [
              "['model.pkl']"
            ]
          },
          "metadata": {},
          "execution_count": 27
        }
      ]
    },
    {
      "cell_type": "code",
      "source": [
        "# Save the scaler object using joblib\n",
        "joblib.dump(sc, 'sc.pkl')"
      ],
      "metadata": {
        "id": "brScPVJVTvM-",
        "outputId": "eb9a07fb-c945-465c-ab73-3c8730a5fe4e",
        "colab": {
          "base_uri": "https://localhost:8080/"
        }
      },
      "execution_count": 28,
      "outputs": [
        {
          "output_type": "execute_result",
          "data": {
            "text/plain": [
              "['sc.pkl']"
            ]
          },
          "metadata": {},
          "execution_count": 28
        }
      ]
    }
  ]
}